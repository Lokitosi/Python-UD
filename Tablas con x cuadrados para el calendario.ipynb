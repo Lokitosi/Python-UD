{
 "cells": [
  {
   "cell_type": "markdown",
   "metadata": {},
   "source": [
    "#ejercicios basicos en pyon\n"
   ]
  },
  {
   "cell_type": "code",
   "execution_count": null,
   "metadata": {},
   "outputs": [
    {
     "name": "stdout",
     "output_type": "stream",
     "text": [
      "hola World\n"
     ]
    }
   ],
   "source": [
    "print(\"hola Woprld\")\n"
   ]
  },
  {
   "cell_type": "code",
   "execution_count": null,
   "metadata": {},
   "outputs": [
    {
     "name": "stdout",
     "output_type": "stream",
     "text": [
      " 1  2  3  4  5  6  7  8  9 10 \n",
      " 2  4  6  8 10 12 14 16 18 20 \n",
      " 3  6  9 12 15 18 21 24 27 30 \n",
      " 4  8 12 16 20 24 28 32 36 40 \n",
      " 5 10 15 20 25 30 35 40 45 50 \n",
      " 6 12 18 24 30 36 42 48 54 60 \n",
      " 7 14 21 28 35 42 49 56 63 70 \n",
      " 8 16 24 32 40 48 56 64 72 80 \n",
      " 9 18 27 36 45 54 63 72 81 90 \n",
      "10 20 30 40 50 60 70 80 90 100 \n"
     ]
    }
   ],
   "source": [
    "print \"X |\"\n",
    "for i in range(1;11):\n",
    "    print \"%2d\" % (i),\n",
    "print \"\\n\", \"-\"*35\n",
    "\n",
    "for i in range (1,11):\n",
    "    print \"%2d |\"\n",
    "    for j in range (1,11):\n",
    "        print (\"%2d\" % (i*j)),\n",
    "    print(\"\")"
   ]
  },
  {
   "cell_type": "code",
   "execution_count": 31,
   "metadata": {},
   "outputs": [
    {
     "name": "stdout",
     "output_type": "stream",
     "text": [
      "5\n",
      "X |  1  2  3  4  5 \n",
      "-----------------------------------\n",
      " 1 |  1  2  3  4  5 \n",
      " 2 |  2  4  6  8 10 \n",
      " 3 |  3  6  9 12 15 \n",
      " 4 |  4  8 12 16 20 \n",
      " 5 |  5 10 15 20 25 \n"
     ]
    }
   ],
   "source": [
    "pa= int(input())+1\n",
    "\n",
    "print \"X |\",\n",
    "for i in range(1, pa):\n",
    "    print \"%2d\" % (i),\n",
    "print \"\\n\", \"-\"*35\n",
    "\n",
    "for i in range (1, pa):\n",
    "    print \"%2d |\" % (i),\n",
    "    for j in range (1,pa):\n",
    "        print (\"%2d\" % (i*j)),\n",
    "    print(\"\")"
   ]
  },
  {
   "cell_type": "code",
   "execution_count": null,
   "metadata": {},
   "outputs": [
    {
     "name": "stdout",
     "output_type": "stream",
     "text": [
      "digite la tabla maxima5\n"
     ]
    },
    {
     "ename": "NameError",
     "evalue": "name 'tabla_de_multiplicar' is not defined",
     "traceback": [
      "\u001b[1;31m---------------------------------------------------------------------------\u001b[0m",
      "\u001b[1;31mNameError\u001b[0m                                 Traceback (most recent call last)",
      "\u001b[1;32m<ipython-input-33-d7622fd63a6e>\u001b[0m in \u001b[0;36m<module>\u001b[1;34m()\u001b[0m\n\u001b[0;32m     13\u001b[0m \u001b[1;33m\u001b[0m\u001b[0m\n\u001b[0;32m     14\u001b[0m \u001b[0mpa\u001b[0m \u001b[1;33m=\u001b[0m \u001b[0mint\u001b[0m\u001b[1;33m(\u001b[0m\u001b[0minput\u001b[0m\u001b[1;33m(\u001b[0m\u001b[1;34m\"digite la tabla maxima\"\u001b[0m\u001b[1;33m)\u001b[0m\u001b[1;33m)\u001b[0m\u001b[1;33m\u001b[0m\u001b[0m\n\u001b[1;32m---> 15\u001b[1;33m \u001b[0mtabla_de_multiplicar\u001b[0m\u001b[1;33m(\u001b[0m\u001b[0mpa\u001b[0m\u001b[1;33m)\u001b[0m\u001b[1;33m\u001b[0m\u001b[0m\n\u001b[0m",
      "\u001b[1;31mNameError\u001b[0m: name 'tabla_de_multiplicar' is not defined"
     ],
     "output_type": "error"
    }
   ],
   "source": [
    "def tablas_de_multiplicar(pa):\n",
    "    print \"X |\",\n",
    "    for i in range(1, pa+1):\n",
    "        print \"%2d\" % (i),\n",
    "    print \"\\n\", \"-\"*35\n",
    "\n",
    "    for i in range (1, pa+1):\n",
    "        print \"%2d |\" % (i),\n",
    "        for j in range (1,pa+1):\n",
    "            print (\"%2d\" % (i*j)),\n",
    "        print(\"\")\n",
    "    \n",
    "pa = int(input(\"digite la tabla maxima\"))\n",
    "tabla_de_multiplicar(pa)"
   ]
  },
  {
   "cell_type": "code",
   "execution_count": null,
   "metadata": {
    "collapsed": true
   },
   "outputs": [],
   "source": [
    "pa= int(input())+1\n",
    "\n",
    "print (\"-\"*35,\"-35\")\n",
    "for i in range(1, pa):\n",
    "    print \"%2d\" % (i),\n",
    "print \"\\n\", \"-\"*35\n",
    "\n",
    "for i in range (1, pa):\n",
    "    print \"%2d |\" % (i),\n",
    "    for j in range (1,pa):\n",
    "        print (\"%2d\" % (i*j)),\n",
    "    print(\"\")"
   ]
  }
 ],
 "metadata": {
  "kernelspec": {
   "display_name": "Python 2",
   "language": "python",
   "name": "python2"
  },
  "language_info": {
   "codemirror_mode": {
    "name": "ipython",
    "version": 2
   },
   "file_extension": ".py",
   "mimetype": "text/x-python",
   "name": "python",
   "nbconvert_exporter": "python",
   "pygments_lexer": "ipython2",
   "version": "2.7.14"
  }
 },
 "nbformat": 4,
 "nbformat_minor": 2
}
