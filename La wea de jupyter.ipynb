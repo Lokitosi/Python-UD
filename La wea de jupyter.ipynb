{
 "cells": [
  {
   "cell_type": "code",
   "execution_count": null,
   "metadata": {
    "collapsed": true
   },
   "outputs": [],
   "source": [
    "tu = (23, 'abc', 4.56, (2,3), 'def')\n",
    "li = ['abc', 34, 4.34, 23]\n",
    "print(tu)\n"
   ]
  },
  {
   "cell_type": "code",
   "execution_count": null,
   "metadata": {},
   "outputs": [],
   "source": [
    "numeros= list(range(100))\n",
    "print(numeros)\n",
    "print(numeros[40:60])\n"
   ]
  },
  {
   "cell_type": "code",
   "execution_count": null,
   "metadata": {},
   "outputs": [],
   "source": [
    "for i in range (101):\n",
    "    if i%7==0:\n",
    "        print('%d\\n' % numeros[i])\n",
    "    else:\n",
    "        print(numeros[i],end=' ')\n",
    "        "
   ]
  },
  {
   "cell_type": "code",
   "execution_count": null,
   "metadata": {},
   "outputs": [],
   "source": [
    "notas=[4.5,2.5,3.5,2.5,5,2.2,3.5,3.5,4.3,5,0,0,0,0,0,0,0,0,0,0\n",
    "con=0\n",
    "       for i in notas:\n",
    "           print(i)"
   ]
  }
 ],
 "metadata": {
  "kernelspec": {
   "display_name": "Python 2",
   "language": "python",
   "name": "python2"
  },
  "language_info": {
   "codemirror_mode": {
    "name": "ipython",
    "version": 2
   },
   "file_extension": ".py",
   "mimetype": "text/x-python",
   "name": "python",
   "nbconvert_exporter": "python",
   "pygments_lexer": "ipython2",
   "version": "2.7.6"
  }
 },
 "nbformat": 4,
 "nbformat_minor": 0
}
